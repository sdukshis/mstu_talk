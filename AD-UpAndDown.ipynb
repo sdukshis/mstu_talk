{
 "cells": [
  {
   "cell_type": "markdown",
   "metadata": {},
   "source": [
    "# Модель обнаружения отклонений в ИП"
   ]
  },
  {
   "cell_type": "code",
   "execution_count": null,
   "metadata": {
    "collapsed": true
   },
   "outputs": [],
   "source": [
    "from __future__ import division"
   ]
  },
  {
   "cell_type": "markdown",
   "metadata": {},
   "source": [
    "Подключаем основные библиотеки для работы с данными"
   ]
  },
  {
   "cell_type": "code",
   "execution_count": null,
   "metadata": {
    "collapsed": true
   },
   "outputs": [],
   "source": [
    "import math\n",
    "import pandas as pd\n",
    "import numpy as np\n",
    "import matplotlib.pyplot as plt\n",
    "%matplotlib notebook\n",
    "import seaborn as sns"
   ]
  },
  {
   "cell_type": "markdown",
   "metadata": {},
   "source": [
    "## Загрузка данных\n",
    "Показания сенсоров храняться в одном csv файле. В качестве индекса используется столбце времени *time*"
   ]
  },
  {
   "cell_type": "code",
   "execution_count": null,
   "metadata": {
    "collapsed": false
   },
   "outputs": [],
   "source": [
    "train = pd.read_csv('/media/volume/datasets/UpAndDown/train.csv', index_col='time')"
   ]
  },
  {
   "cell_type": "markdown",
   "metadata": {},
   "source": [
    "## Описание"
   ]
  },
  {
   "cell_type": "markdown",
   "metadata": {},
   "source": [
    "Точек по времени"
   ]
  },
  {
   "cell_type": "code",
   "execution_count": null,
   "metadata": {
    "collapsed": false
   },
   "outputs": [],
   "source": [
    "N = len(train)\n",
    "N"
   ]
  },
  {
   "cell_type": "markdown",
   "metadata": {},
   "source": [
    "Размерность временного ряда"
   ]
  },
  {
   "cell_type": "code",
   "execution_count": null,
   "metadata": {
    "collapsed": false
   },
   "outputs": [],
   "source": [
    "K = len(train.columns)\n",
    "K"
   ]
  },
  {
   "cell_type": "markdown",
   "metadata": {},
   "source": [
    "Размер занимаемой RAM (Гб)"
   ]
  },
  {
   "cell_type": "code",
   "execution_count": null,
   "metadata": {
    "collapsed": false
   },
   "outputs": [],
   "source": [
    "print(\"{:.2f}\".format(train.memory_usage(index=True).sum()/2**30))"
   ]
  },
  {
   "cell_type": "markdown",
   "metadata": {},
   "source": [
    "## Визуализация данных\n",
    "Для визуализации выберем из всего набора несколько основных рядов"
   ]
  },
  {
   "cell_type": "code",
   "execution_count": null,
   "metadata": {
    "collapsed": true
   },
   "outputs": [],
   "source": [
    "columns_to_plot = [\n",
    "    'tank.level',\n",
    "    'valveDiscrete1.open',\n",
    "    'valveDiscrete1.V_flow',\n",
    "    'valveDiscrete2.open',\n",
    "    'valveDiscrete2.V_flow',\n",
    "]"
   ]
  },
  {
   "cell_type": "markdown",
   "metadata": {},
   "source": [
    "Построим графики для выбранных временных рядов на первых "
   ]
  },
  {
   "cell_type": "code",
   "execution_count": null,
   "metadata": {
    "collapsed": true
   },
   "outputs": [],
   "source": [
    "end_plot = 10000"
   ]
  },
  {
   "cell_type": "markdown",
   "metadata": {},
   "source": [
    "точках"
   ]
  },
  {
   "cell_type": "code",
   "execution_count": null,
   "metadata": {
    "collapsed": false
   },
   "outputs": [],
   "source": [
    "_ = train[columns_to_plot][:end_plot].plot(subplots=True, figsize=(15,10), color='blue')\n"
   ]
  },
  {
   "cell_type": "markdown",
   "metadata": {},
   "source": [
    "### Предобработка данных\n",
    "\n",
    "Поскольку для построения прогноза будут использоваться нейронные сети, то необходимо нормализовать все временные ряды. Для этого будет использовать инструменты библиотеки sklearn"
   ]
  },
  {
   "cell_type": "code",
   "execution_count": null,
   "metadata": {
    "collapsed": false
   },
   "outputs": [],
   "source": [
    "from sklearn.preprocessing import StandardScaler\n",
    "standart_scaler = StandardScaler()\n",
    "train_scaled = pd.DataFrame(data=standart_scaler.fit_transform(train), index=train.index, columns=train.columns)"
   ]
  },
  {
   "cell_type": "markdown",
   "metadata": {},
   "source": [
    "### Визуализируем результат нормализации"
   ]
  },
  {
   "cell_type": "code",
   "execution_count": null,
   "metadata": {
    "collapsed": false
   },
   "outputs": [],
   "source": [
    "_ = train_scaled[columns_to_plot][:end_plot].plot(subplots=True, figsize=(15,10), color='blue')"
   ]
  },
  {
   "cell_type": "markdown",
   "metadata": {},
   "source": [
    "### Разделение данных на обучающую и проверочную выборки"
   ]
  },
  {
   "cell_type": "markdown",
   "metadata": {},
   "source": [
    "Пусть доля проверочной выборки составляет"
   ]
  },
  {
   "cell_type": "code",
   "execution_count": null,
   "metadata": {
    "collapsed": true
   },
   "outputs": [],
   "source": [
    "validation_split = 0.1"
   ]
  },
  {
   "cell_type": "markdown",
   "metadata": {},
   "source": [
    "Число точек в обучающей выборке"
   ]
  },
  {
   "cell_type": "code",
   "execution_count": null,
   "metadata": {
    "collapsed": false
   },
   "outputs": [],
   "source": [
    "train_size = int(math.floor(N*(1 - validation_split)))\n",
    "train_size"
   ]
  },
  {
   "cell_type": "markdown",
   "metadata": {},
   "source": [
    "Число точек в проверочной выборке"
   ]
  },
  {
   "cell_type": "code",
   "execution_count": null,
   "metadata": {
    "collapsed": false
   },
   "outputs": [],
   "source": [
    "validation_size = int(math.ceil(N*validation_split))\n",
    "validation_size"
   ]
  },
  {
   "cell_type": "code",
   "execution_count": null,
   "metadata": {
    "collapsed": true
   },
   "outputs": [],
   "source": [
    "assert(validation_size + train_size == N)"
   ]
  },
  {
   "cell_type": "code",
   "execution_count": null,
   "metadata": {
    "collapsed": false
   },
   "outputs": [],
   "source": [
    "train_dataset = train_scaled.iloc[:train_size]\n",
    "validation_dataset = train_scaled.iloc[train_size:]"
   ]
  },
  {
   "cell_type": "markdown",
   "metadata": {},
   "source": [
    "Будем обрабатывать данные окнами по"
   ]
  },
  {
   "cell_type": "code",
   "execution_count": null,
   "metadata": {
    "collapsed": true
   },
   "outputs": [],
   "source": [
    "window_size = 60"
   ]
  },
  {
   "cell_type": "markdown",
   "metadata": {},
   "source": [
    "точек."
   ]
  },
  {
   "cell_type": "code",
   "execution_count": null,
   "metadata": {
    "collapsed": true
   },
   "outputs": [],
   "source": [
    "def crop(dataset, window_size):\n",
    "    crop_size = len(dataset) - len(dataset) % window_size\n",
    "    return dataset.iloc[:crop_size].values.reshape(-1, window_size, K)"
   ]
  },
  {
   "cell_type": "code",
   "execution_count": null,
   "metadata": {
    "collapsed": false
   },
   "outputs": [],
   "source": [
    "train_reshaped = crop(train_dataset, window_size)\n",
    "X_train = train_reshaped[:-1]\n",
    "y_train = train_reshaped[1:]\n",
    "assert(X_train.shape == y_train.shape)\n",
    "validation_reshaped = crop(validation_dataset, window_size)\n",
    "X_validation = validation_reshaped[:-1]\n",
    "y_validation = validation_reshaped[1:]\n",
    "assert(X_validation.shape == y_validation.shape)"
   ]
  },
  {
   "cell_type": "markdown",
   "metadata": {},
   "source": [
    "## Обучение RNN\n",
    "Решение описанной задачи будем искать с помощью построения прогноза для временого ряда и оценки полученной ошибки между реальным значением и спрогнозированным.\n",
    "\n",
    "### Архитектура нейронной сети"
   ]
  },
  {
   "cell_type": "markdown",
   "metadata": {},
   "source": [
    "Для построения необходимой архитектуры будем использовать библиотеку keras"
   ]
  },
  {
   "cell_type": "code",
   "execution_count": null,
   "metadata": {
    "collapsed": false
   },
   "outputs": [],
   "source": [
    "from keras.models import Sequential\n",
    "from keras.layers.core import Dense, Dropout, Activation\n",
    "from keras.layers.recurrent import LSTM, GRU, SimpleRNN\n",
    "from keras.layers.wrappers import TimeDistributed"
   ]
  },
  {
   "cell_type": "markdown",
   "metadata": {},
   "source": [
    "Сеть будет иметь два скрытых LSTM слоя размерностью"
   ]
  },
  {
   "cell_type": "code",
   "execution_count": null,
   "metadata": {
    "collapsed": true
   },
   "outputs": [],
   "source": [
    "n_hidden = (32, 32)"
   ]
  },
  {
   "cell_type": "markdown",
   "metadata": {},
   "source": [
    "Для регуляризации параметров будем использовать метод Dropout для каждого скрытого слоя с вероятностью"
   ]
  },
  {
   "cell_type": "code",
   "execution_count": null,
   "metadata": {
    "collapsed": true
   },
   "outputs": [],
   "source": [
    "dropout_prob = 0.5"
   ]
  },
  {
   "cell_type": "markdown",
   "metadata": {},
   "source": [
    "Обучение и вывод будем проводить при размере батча в"
   ]
  },
  {
   "cell_type": "code",
   "execution_count": null,
   "metadata": {
    "collapsed": true
   },
   "outputs": [],
   "source": [
    "batch_size = 1"
   ]
  },
  {
   "cell_type": "markdown",
   "metadata": {},
   "source": [
    "Размерность входных данных"
   ]
  },
  {
   "cell_type": "code",
   "execution_count": null,
   "metadata": {
    "collapsed": true
   },
   "outputs": [],
   "source": [
    "input_shape = (batch_size, window_size, K)"
   ]
  },
  {
   "cell_type": "code",
   "execution_count": null,
   "metadata": {
    "collapsed": false
   },
   "outputs": [],
   "source": [
    "model = Sequential()\n",
    "model.add(LSTM(batch_input_shape=input_shape,\n",
    "               output_dim=n_hidden[0],\n",
    "               stateful=True,\n",
    "               return_sequences=True))\n",
    "model.add(Dropout(dropout_prob))\n",
    "model.add(LSTM(output_dim=n_hidden[1],\n",
    "               stateful=True,\n",
    "               return_sequences=True))\n",
    "model.add(TimeDistributed(Dense(K)))\n",
    "model.add(Activation('linear'))"
   ]
  },
  {
   "cell_type": "markdown",
   "metadata": {},
   "source": [
    "В качестве функции потерь будем использовать средний квадрат ошибка. В качестве алгоритма потимизации RmsProp"
   ]
  },
  {
   "cell_type": "code",
   "execution_count": null,
   "metadata": {
    "collapsed": true
   },
   "outputs": [],
   "source": [
    "model.compile(loss='mse', optimizer='RMSprop')"
   ]
  },
  {
   "cell_type": "markdown",
   "metadata": {},
   "source": [
    "### Параметры нейронной сети"
   ]
  },
  {
   "cell_type": "code",
   "execution_count": null,
   "metadata": {
    "collapsed": false
   },
   "outputs": [],
   "source": [
    "model.summary()"
   ]
  },
  {
   "cell_type": "markdown",
   "metadata": {},
   "source": [
    "Максимальное число эпох обучения"
   ]
  },
  {
   "cell_type": "code",
   "execution_count": null,
   "metadata": {
    "collapsed": true
   },
   "outputs": [],
   "source": [
    "max_epoch = 100"
   ]
  },
  {
   "cell_type": "markdown",
   "metadata": {},
   "source": [
    "В ходе обучения будем сохранять лучший результат на основе валидации. И будем преждевременно заканчивать обучение, если в ходе нескольких эпох нет улучшения результата."
   ]
  },
  {
   "cell_type": "code",
   "execution_count": null,
   "metadata": {
    "collapsed": true
   },
   "outputs": [],
   "source": [
    "from keras.callbacks import ModelCheckpoint, EarlyStopping\n",
    "\n",
    "checkpointer = ModelCheckpoint(filepath=\"./models/lstm.multi.UpAndDown.{:d}-{:d}.hdf5\".format(n_hidden[0], n_hidden[1]),\n",
    "                               verbose=0,\n",
    "                               save_best_only=True)\n",
    "early_stopper = EarlyStopping(patience=10, verbose=1)"
   ]
  },
  {
   "cell_type": "code",
   "execution_count": null,
   "metadata": {
    "collapsed": false
   },
   "outputs": [],
   "source": [
    "history = model.fit(X_train,\n",
    "                   y_train,\n",
    "                   batch_size=batch_size,\n",
    "                   nb_epoch=max_epoch,\n",
    "                   validation_data=(X_validation, y_validation),\n",
    "                   shuffle=False,\n",
    "                   verbose=1,\n",
    "                   callbacks=[checkpointer, early_stopper])"
   ]
  },
  {
   "cell_type": "markdown",
   "metadata": {},
   "source": [
    "Построим график зависимости функции потерь на обучающей и проверочной выборках от номера эпохи"
   ]
  },
  {
   "cell_type": "code",
   "execution_count": null,
   "metadata": {
    "collapsed": false
   },
   "outputs": [],
   "source": [
    "pd.DataFrame(history.history).plot(figsize=(10, 3))"
   ]
  },
  {
   "cell_type": "markdown",
   "metadata": {},
   "source": [
    "Для проверочной выборки построим прогноз"
   ]
  },
  {
   "cell_type": "code",
   "execution_count": null,
   "metadata": {
    "collapsed": false
   },
   "outputs": [],
   "source": [
    "model.load_weights(\"./models/lstm.multi.UpAndDown.{:d}-{:d}.hdf5\".format(n_hidden[0], n_hidden[1]))\n",
    "model.reset_states()\n",
    "y_pred = model.predict(X_validation, batch_size=batch_size)\n",
    "pred_scaled = pd.DataFrame(index=validation_dataset.index[window_size:window_size + y_pred.shape[0]*y_pred.shape[1]])\n",
    "for i in range(K):\n",
    "    pred_scaled[train.columns[i]] = y_pred[:, :, i].reshape(-1)"
   ]
  },
  {
   "cell_type": "markdown",
   "metadata": {},
   "source": [
    "Визуализируем прогноз на валидационной выборке и построим график средней ошибки прогноза по всем измерениям"
   ]
  },
  {
   "cell_type": "code",
   "execution_count": null,
   "metadata": {
    "collapsed": true
   },
   "outputs": [],
   "source": [
    "def plot_forecast_with_error(true, pred, error, threshold):\n",
    "    f, ax = plt.subplots(len(columns_to_plot) + 1, figsize=(15, 2*len(columns_to_plot)))\n",
    "    \n",
    "    for i, column in enumerate(true.columns):\n",
    "        true[column].plot(ax=ax[i], color='blue', label=None)\n",
    "        pred[column].plot(ax=ax[i], color='green', label=None)\n",
    "    error.plot(ax=ax[-1], color='red', label='mean_error')\n",
    "    pd.Series(data=[threshold]*len(true.index), index=true.index).plot(ax=ax[-1], color='orange', label='threshold')"
   ]
  },
  {
   "cell_type": "code",
   "execution_count": null,
   "metadata": {
    "collapsed": false
   },
   "outputs": [],
   "source": [
    "start_plot = 490000\n",
    "end_plot = 500000\n",
    "error = ((validation_dataset.iloc[window_size:window_size + y_pred.shape[0]*y_pred.shape[1]] - pred_scaled)**2).ewm(halflife=window_size).mean()\n",
    "mean_error = error.mean(axis=1)\n",
    "\n",
    "plot_forecast_with_error(validation_dataset[columns_to_plot][start_plot:end_plot],\n",
    "                         pred_scaled[columns_to_plot][start_plot:end_plot],\n",
    "                         mean_error[start_plot:end_plot],\n",
    "                         threshold)"
   ]
  },
  {
   "cell_type": "markdown",
   "metadata": {},
   "source": [
    "Определим порог принятия решения как 0.999 квантиль от ошибки на валидации"
   ]
  },
  {
   "cell_type": "code",
   "execution_count": null,
   "metadata": {
    "collapsed": false
   },
   "outputs": [],
   "source": [
    "threshold = mean_error.quantile(0.999)\n",
    "print(\"{:.3g}\".format(threshold))"
   ]
  },
  {
   "cell_type": "markdown",
   "metadata": {},
   "source": [
    "умноженный на"
   ]
  },
  {
   "cell_type": "code",
   "execution_count": null,
   "metadata": {
    "collapsed": true
   },
   "outputs": [],
   "source": [
    "alpha = 2.0\n",
    "threshold_level = alpha*threshold"
   ]
  },
  {
   "cell_type": "markdown",
   "metadata": {},
   "source": [
    "### Тестирование алгоритма обнаружения атаки"
   ]
  },
  {
   "cell_type": "markdown",
   "metadata": {},
   "source": [
    "Загрузим данные, содержащие последствия атаки и сделаем предобработку"
   ]
  },
  {
   "cell_type": "code",
   "execution_count": null,
   "metadata": {
    "collapsed": false
   },
   "outputs": [],
   "source": [
    "test = pd.read_csv('/media/volume/datasets/UpAndDown/1/test6.csv', index_col='time')\n",
    "test_scaled = pd.DataFrame(data=standart_scaler.transform(test), index=test.index, columns=test.columns)\n",
    "test_reshaped = crop(test_scaled, window_size)\n",
    "X_test = test_reshaped[:-1]"
   ]
  },
  {
   "cell_type": "markdown",
   "metadata": {},
   "source": [
    "Построим прогноз для проверочного набора"
   ]
  },
  {
   "cell_type": "code",
   "execution_count": null,
   "metadata": {
    "collapsed": false
   },
   "outputs": [],
   "source": [
    "model.reset_states()\n",
    "test_pred = model.predict(X_test, batch_size=batch_size)\n",
    "test_pred_scaled = pd.DataFrame(index=test.index[window_size:window_size + test_pred.shape[0]*test_pred.shape[1]])\n",
    "for i in range(K):\n",
    "    test_pred_scaled[train.columns[i]] = test_pred[:, :, i].reshape(-1)"
   ]
  },
  {
   "cell_type": "markdown",
   "metadata": {},
   "source": [
    "И визуализируем результат"
   ]
  },
  {
   "cell_type": "code",
   "execution_count": null,
   "metadata": {
    "collapsed": false
   },
   "outputs": [],
   "source": [
    "start_plot = 3000\n",
    "end_plot = -1\n",
    "error = ((test_scaled.iloc[window_size:window_size + test_pred_scaled.shape[0]*test_pred_scaled.shape[1]] - test_pred_scaled)**2).ewm(halflife=window_size).mean()\n",
    "test_mean_error = error.mean(axis=1)\n",
    "\n",
    "plot_forecast_with_error(test_scaled[columns_to_plot][start_plot:],\n",
    "                         test_pred_scaled[columns_to_plot][start_plot:],\n",
    "                         test_mean_error[start_plot:],\n",
    "                         threshold_level)"
   ]
  },
  {
   "cell_type": "code",
   "execution_count": null,
   "metadata": {
    "collapsed": true
   },
   "outputs": [],
   "source": []
  },
  {
   "cell_type": "code",
   "execution_count": null,
   "metadata": {
    "collapsed": true
   },
   "outputs": [],
   "source": []
  },
  {
   "cell_type": "code",
   "execution_count": null,
   "metadata": {
    "collapsed": true
   },
   "outputs": [],
   "source": []
  }
 ],
 "metadata": {
  "kernelspec": {
   "display_name": "Python 2",
   "language": "python",
   "name": "python2"
  },
  "language_info": {
   "codemirror_mode": {
    "name": "ipython",
    "version": 2
   },
   "file_extension": ".py",
   "mimetype": "text/x-python",
   "name": "python",
   "nbconvert_exporter": "python",
   "pygments_lexer": "ipython2",
   "version": "2.7.12"
  }
 },
 "nbformat": 4,
 "nbformat_minor": 1
}
